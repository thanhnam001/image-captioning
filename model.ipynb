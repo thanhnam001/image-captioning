{
 "cells": [
  {
   "cell_type": "code",
   "execution_count": 1,
   "id": "d898abb3",
   "metadata": {
    "execution": {
     "iopub.execute_input": "2023-01-21T05:02:17.410721Z",
     "iopub.status.busy": "2023-01-21T05:02:17.410139Z",
     "iopub.status.idle": "2023-01-21T05:02:17.425156Z",
     "shell.execute_reply": "2023-01-21T05:02:17.424115Z"
    },
    "papermill": {
     "duration": 0.025476,
     "end_time": "2023-01-21T05:02:17.428185",
     "exception": false,
     "start_time": "2023-01-21T05:02:17.402709",
     "status": "completed"
    },
    "tags": []
   },
   "outputs": [
    {
     "name": "stdout",
     "output_type": "stream",
     "text": [
      "/kaggle/input/flickr8k\n"
     ]
    }
   ],
   "source": [
    "%cd /kaggle/input/flickr8k"
   ]
  },
  {
   "cell_type": "code",
   "execution_count": 2,
   "id": "cdbb060f",
   "metadata": {
    "execution": {
     "iopub.execute_input": "2023-01-21T05:02:17.439396Z",
     "iopub.status.busy": "2023-01-21T05:02:17.438542Z",
     "iopub.status.idle": "2023-01-21T05:02:23.322051Z",
     "shell.execute_reply": "2023-01-21T05:02:23.321049Z"
    },
    "papermill": {
     "duration": 5.8915,
     "end_time": "2023-01-21T05:02:23.324491",
     "exception": false,
     "start_time": "2023-01-21T05:02:17.432991",
     "status": "completed"
    },
    "tags": []
   },
   "outputs": [],
   "source": [
    "import tensorflow as tf\n",
    "import os\n",
    "import re\n",
    "import string\n",
    "import numpy as np\n",
    "import pandas as pd\n",
    "import matplotlib.pyplot as plt\n",
    "from tqdm import tqdm\n",
    "import pickle as pkl\n",
    "from sklearn.model_selection import train_test_split\n",
    "\n",
    "from tensorflow.keras.applications.vgg16 import VGG16, preprocess_input\n",
    "from tensorflow.keras.preprocessing.image import load_img, img_to_array\n",
    "from tensorflow.keras.preprocessing.text import Tokenizer\n",
    "from tensorflow.keras.preprocessing.sequence import pad_sequences\n",
    "from tensorflow.keras.utils import to_categorical, plot_model\n",
    "from tensorflow.keras import layers,Model"
   ]
  },
  {
   "cell_type": "code",
   "execution_count": 3,
   "id": "699c0df9",
   "metadata": {
    "execution": {
     "iopub.execute_input": "2023-01-21T05:02:23.335628Z",
     "iopub.status.busy": "2023-01-21T05:02:23.335108Z",
     "iopub.status.idle": "2023-01-21T05:02:31.122776Z",
     "shell.execute_reply": "2023-01-21T05:02:31.121764Z"
    },
    "papermill": {
     "duration": 7.795796,
     "end_time": "2023-01-21T05:02:31.125190",
     "exception": false,
     "start_time": "2023-01-21T05:02:23.329394",
     "status": "completed"
    },
    "tags": []
   },
   "outputs": [
    {
     "name": "stderr",
     "output_type": "stream",
     "text": [
      "2023-01-21 05:02:23.438386: I tensorflow/stream_executor/cuda/cuda_gpu_executor.cc:937] successful NUMA node read from SysFS had negative value (-1), but there must be at least one NUMA node, so returning NUMA node zero\n",
      "2023-01-21 05:02:23.531810: I tensorflow/stream_executor/cuda/cuda_gpu_executor.cc:937] successful NUMA node read from SysFS had negative value (-1), but there must be at least one NUMA node, so returning NUMA node zero\n",
      "2023-01-21 05:02:23.532722: I tensorflow/stream_executor/cuda/cuda_gpu_executor.cc:937] successful NUMA node read from SysFS had negative value (-1), but there must be at least one NUMA node, so returning NUMA node zero\n",
      "2023-01-21 05:02:23.534532: I tensorflow/core/platform/cpu_feature_guard.cc:142] This TensorFlow binary is optimized with oneAPI Deep Neural Network Library (oneDNN) to use the following CPU instructions in performance-critical operations:  AVX2 AVX512F FMA\n",
      "To enable them in other operations, rebuild TensorFlow with the appropriate compiler flags.\n",
      "2023-01-21 05:02:23.534850: I tensorflow/stream_executor/cuda/cuda_gpu_executor.cc:937] successful NUMA node read from SysFS had negative value (-1), but there must be at least one NUMA node, so returning NUMA node zero\n",
      "2023-01-21 05:02:23.535599: I tensorflow/stream_executor/cuda/cuda_gpu_executor.cc:937] successful NUMA node read from SysFS had negative value (-1), but there must be at least one NUMA node, so returning NUMA node zero\n",
      "2023-01-21 05:02:23.536258: I tensorflow/stream_executor/cuda/cuda_gpu_executor.cc:937] successful NUMA node read from SysFS had negative value (-1), but there must be at least one NUMA node, so returning NUMA node zero\n",
      "2023-01-21 05:02:25.654368: I tensorflow/stream_executor/cuda/cuda_gpu_executor.cc:937] successful NUMA node read from SysFS had negative value (-1), but there must be at least one NUMA node, so returning NUMA node zero\n",
      "2023-01-21 05:02:25.655268: I tensorflow/stream_executor/cuda/cuda_gpu_executor.cc:937] successful NUMA node read from SysFS had negative value (-1), but there must be at least one NUMA node, so returning NUMA node zero\n",
      "2023-01-21 05:02:25.655984: I tensorflow/stream_executor/cuda/cuda_gpu_executor.cc:937] successful NUMA node read from SysFS had negative value (-1), but there must be at least one NUMA node, so returning NUMA node zero\n",
      "2023-01-21 05:02:25.656594: I tensorflow/core/common_runtime/gpu/gpu_device.cc:1510] Created device /job:localhost/replica:0/task:0/device:GPU:0 with 15401 MB memory:  -> device: 0, name: Tesla P100-PCIE-16GB, pci bus id: 0000:00:04.0, compute capability: 6.0\n"
     ]
    },
    {
     "name": "stdout",
     "output_type": "stream",
     "text": [
      "Downloading data from https://storage.googleapis.com/tensorflow/keras-applications/vgg16/vgg16_weights_tf_dim_ordering_tf_kernels.h5\n",
      "553467904/553467096 [==============================] - 4s 0us/step\n",
      "553476096/553467096 [==============================] - 4s 0us/step\n"
     ]
    }
   ],
   "source": [
    "vgg16 = VGG16(weights='imagenet')\n",
    "feature_extract = Model(inputs = vgg16.input, outputs = vgg16.layers[-2].output)"
   ]
  },
  {
   "cell_type": "code",
   "execution_count": 4,
   "id": "c4016586",
   "metadata": {
    "execution": {
     "iopub.execute_input": "2023-01-21T05:02:31.144431Z",
     "iopub.status.busy": "2023-01-21T05:02:31.142968Z",
     "iopub.status.idle": "2023-01-21T05:11:07.186671Z",
     "shell.execute_reply": "2023-01-21T05:11:07.184106Z"
    },
    "papermill": {
     "duration": 516.056543,
     "end_time": "2023-01-21T05:11:07.190462",
     "exception": false,
     "start_time": "2023-01-21T05:02:31.133919",
     "status": "completed"
    },
    "tags": []
   },
   "outputs": [
    {
     "name": "stderr",
     "output_type": "stream",
     "text": [
      "  0%|          | 0/8091 [00:00<?, ?it/s]2023-01-21 05:02:31.467795: I tensorflow/compiler/mlir/mlir_graph_optimization_pass.cc:185] None of the MLIR Optimization Passes are enabled (registered 2)\n",
      "2023-01-21 05:02:32.501969: I tensorflow/stream_executor/cuda/cuda_dnn.cc:369] Loaded cuDNN version 8005\n",
      "100%|██████████| 8091/8091 [08:35<00:00, 15.69it/s]\n"
     ]
    }
   ],
   "source": [
    "feature = dict()\n",
    "for img_name in tqdm(os.listdir('Images')):\n",
    "    img = load_img('Images/'+ img_name, target_size=(224,224))\n",
    "    img = img_to_array(img)\n",
    "    img = img[None,:]\n",
    "    img = preprocess_input(img)\n",
    "    feature[img_name] = feature_extract.predict(img)"
   ]
  },
  {
   "cell_type": "code",
   "execution_count": 5,
   "id": "f8fc0cc5",
   "metadata": {
    "execution": {
     "iopub.execute_input": "2023-01-21T05:11:07.855071Z",
     "iopub.status.busy": "2023-01-21T05:11:07.854716Z",
     "iopub.status.idle": "2023-01-21T05:11:07.954719Z",
     "shell.execute_reply": "2023-01-21T05:11:07.953746Z"
    },
    "papermill": {
     "duration": 0.391177,
     "end_time": "2023-01-21T05:11:07.957088",
     "exception": false,
     "start_time": "2023-01-21T05:11:07.565911",
     "status": "completed"
    },
    "tags": []
   },
   "outputs": [],
   "source": [
    "df = pd.read_csv('captions.txt')"
   ]
  },
  {
   "cell_type": "code",
   "execution_count": 6,
   "id": "098f1c07",
   "metadata": {
    "execution": {
     "iopub.execute_input": "2023-01-21T05:11:08.419619Z",
     "iopub.status.busy": "2023-01-21T05:11:08.419240Z",
     "iopub.status.idle": "2023-01-21T05:11:08.425678Z",
     "shell.execute_reply": "2023-01-21T05:11:08.424637Z"
    },
    "papermill": {
     "duration": 0.263944,
     "end_time": "2023-01-21T05:11:08.428980",
     "exception": false,
     "start_time": "2023-01-21T05:11:08.165036",
     "status": "completed"
    },
    "tags": []
   },
   "outputs": [
    {
     "name": "stdout",
     "output_type": "stream",
     "text": [
      "/kaggle/working\n"
     ]
    }
   ],
   "source": [
    "%cd /kaggle/working"
   ]
  },
  {
   "cell_type": "code",
   "execution_count": 7,
   "id": "cd0cea4d",
   "metadata": {
    "execution": {
     "iopub.execute_input": "2023-01-21T05:11:08.844611Z",
     "iopub.status.busy": "2023-01-21T05:11:08.844215Z",
     "iopub.status.idle": "2023-01-21T05:11:08.860670Z",
     "shell.execute_reply": "2023-01-21T05:11:08.859772Z"
    },
    "papermill": {
     "duration": 0.226747,
     "end_time": "2023-01-21T05:11:08.862775",
     "exception": false,
     "start_time": "2023-01-21T05:11:08.636028",
     "status": "completed"
    },
    "tags": []
   },
   "outputs": [],
   "source": [
    "train_df, remain_df = train_test_split(df, \n",
    "                                        test_size=0.2,\n",
    "                                        random_state=42)\n",
    "\n",
    "val_df, test_df = train_test_split(remain_df, \n",
    "                                    test_size = 0.5,\n",
    "                                    random_state=42)\n",
    "train_df.reset_index(drop = True, inplace = True)\n",
    "val_df.reset_index(drop = True, inplace = True)\n",
    "test_df.reset_index(drop = True, inplace = True)"
   ]
  },
  {
   "cell_type": "code",
   "execution_count": 8,
   "id": "aa746215",
   "metadata": {
    "execution": {
     "iopub.execute_input": "2023-01-21T05:11:09.280977Z",
     "iopub.status.busy": "2023-01-21T05:11:09.280625Z",
     "iopub.status.idle": "2023-01-21T05:11:09.562758Z",
     "shell.execute_reply": "2023-01-21T05:11:09.561781Z"
    },
    "papermill": {
     "duration": 0.493637,
     "end_time": "2023-01-21T05:11:09.565164",
     "exception": false,
     "start_time": "2023-01-21T05:11:09.071527",
     "status": "completed"
    },
    "tags": []
   },
   "outputs": [],
   "source": [
    "START_TOKEN = 'startseq'\n",
    "END_TOKEN = 'endseq'\n",
    "def preprocess_caption(s):\n",
    "    s = START_TOKEN + ' ' + s + ' ' + END_TOKEN\n",
    "    s = s.lower()\n",
    "    s = re.sub(r'[^\\w\\s]','',s)\n",
    "    s = re.sub(r'\\s+',' ',s)\n",
    "    return s\n",
    "df.caption = df.caption.apply(preprocess_caption)"
   ]
  },
  {
   "cell_type": "code",
   "execution_count": 9,
   "id": "23a1cc81",
   "metadata": {
    "execution": {
     "iopub.execute_input": "2023-01-21T05:11:09.978084Z",
     "iopub.status.busy": "2023-01-21T05:11:09.977738Z",
     "iopub.status.idle": "2023-01-21T05:11:10.683782Z",
     "shell.execute_reply": "2023-01-21T05:11:10.682778Z"
    },
    "papermill": {
     "duration": 0.916006,
     "end_time": "2023-01-21T05:11:10.686214",
     "exception": false,
     "start_time": "2023-01-21T05:11:09.770208",
     "status": "completed"
    },
    "tags": []
   },
   "outputs": [],
   "source": [
    "tokenizer = Tokenizer()\n",
    "tokenizer.fit_on_texts(df.caption)\n",
    "vocab_size = len(tokenizer.word_index) + 1\n",
    "max_len = max(df.caption.str.split().agg(len))"
   ]
  },
  {
   "cell_type": "code",
   "execution_count": 10,
   "id": "aa079a0b",
   "metadata": {
    "execution": {
     "iopub.execute_input": "2023-01-21T05:11:11.138238Z",
     "iopub.status.busy": "2023-01-21T05:11:11.137260Z",
     "iopub.status.idle": "2023-01-21T05:11:11.148929Z",
     "shell.execute_reply": "2023-01-21T05:11:11.148032Z"
    },
    "papermill": {
     "duration": 0.2603,
     "end_time": "2023-01-21T05:11:11.151009",
     "exception": false,
     "start_time": "2023-01-21T05:11:10.890709",
     "status": "completed"
    },
    "tags": []
   },
   "outputs": [],
   "source": [
    "with open('tokenizer.pkl', 'wb+') as f:\n",
    "    pkl.dump(tokenizer,f)"
   ]
  },
  {
   "cell_type": "code",
   "execution_count": 11,
   "id": "acc5004b",
   "metadata": {
    "execution": {
     "iopub.execute_input": "2023-01-21T05:11:11.563325Z",
     "iopub.status.busy": "2023-01-21T05:11:11.562290Z",
     "iopub.status.idle": "2023-01-21T05:11:11.573147Z",
     "shell.execute_reply": "2023-01-21T05:11:11.572189Z"
    },
    "papermill": {
     "duration": 0.221345,
     "end_time": "2023-01-21T05:11:11.575343",
     "exception": false,
     "start_time": "2023-01-21T05:11:11.353998",
     "status": "completed"
    },
    "tags": []
   },
   "outputs": [],
   "source": [
    "class Dataloader(tf.keras.utils.Sequence):\n",
    "    def __init__(self, df, feature, batch_size, tokenizer, max_len, vocab_size):\n",
    "        self.df = df\n",
    "        self.batch_size = batch_size\n",
    "        self.feature = feature\n",
    "        self.tokenizer = tokenizer\n",
    "        self.max_len = max_len\n",
    "        self.vocab_size = vocab_size\n",
    "        self.n = len(self.df)\n",
    "    \n",
    "    def __getitem__(self, index):\n",
    "        start = index * self.batch_size\n",
    "        end = (index + 1) * self.batch_size\n",
    "        \n",
    "        X1, X2, y = list(), list(), list()\n",
    "        batch = self.df.iloc[start : end, :]\n",
    "        image_names = batch['image'].to_list()\n",
    "        for img_name in image_names:\n",
    "            captions = batch.loc[batch.image == img_name, 'caption'].to_list()\n",
    "            for caption in captions:\n",
    "                seq = self.tokenizer.texts_to_sequences([caption])[0]\n",
    "                for i in range(1,len(seq)):\n",
    "                    in_seq, out_seq = seq[:i], seq[i]\n",
    "                    in_seq = pad_sequences([in_seq], maxlen= self.max_len)[0]\n",
    "                    out_seq = to_categorical([out_seq], num_classes= self.vocab_size)[0]\n",
    "                    X1.append(self.feature[img_name][0])\n",
    "                    X2.append(in_seq)\n",
    "                    y.append(out_seq)\n",
    "        return (np.array(X1), np.array(X2)), np.array(y)\n",
    "    \n",
    "    def __len__(self):\n",
    "        return self.n // self.batch_size"
   ]
  },
  {
   "cell_type": "markdown",
   "id": "81a5fc28",
   "metadata": {
    "papermill": {
     "duration": 0.207151,
     "end_time": "2023-01-21T05:11:11.987994",
     "exception": false,
     "start_time": "2023-01-21T05:11:11.780843",
     "status": "completed"
    },
    "tags": []
   },
   "source": [
    "# Model"
   ]
  },
  {
   "cell_type": "code",
   "execution_count": 12,
   "id": "57dcbfd6",
   "metadata": {
    "execution": {
     "iopub.execute_input": "2023-01-21T05:11:12.444338Z",
     "iopub.status.busy": "2023-01-21T05:11:12.443966Z",
     "iopub.status.idle": "2023-01-21T05:11:14.196482Z",
     "shell.execute_reply": "2023-01-21T05:11:14.195320Z"
    },
    "papermill": {
     "duration": 2.000285,
     "end_time": "2023-01-21T05:11:14.198702",
     "exception": false,
     "start_time": "2023-01-21T05:11:12.198417",
     "status": "completed"
    },
    "tags": []
   },
   "outputs": [
    {
     "data": {
      "image/png": "[encoded data removed]",
      "text/plain": [
       "<IPython.core.display.Image object>"
      ]
     },
     "execution_count": 12,
     "metadata": {},
     "output_type": "execute_result"
    }
   ],
   "source": [
    "input1 = layers.Input(shape=(4096,))\n",
    "fe1 = layers.Dropout(0.5)(input1)\n",
    "fe2 = layers.Dense(256, activation= 'relu')(fe1)\n",
    "\n",
    "input2 = layers.Input(shape=(max_len,))\n",
    "enc1 = layers.Embedding(vocab_size,\n",
    "                        256,\n",
    "                        mask_zero=True\n",
    "                        )(input2)\n",
    "enc2 = layers.Dropout(0.5)(enc1)\n",
    "enc3 = layers.LSTM(256)(enc2)\n",
    "\n",
    "decoder1 = layers.add([fe2, enc3])\n",
    "decoder2 = layers.Dense(256, activation = 'relu')(decoder1)\n",
    "output = layers.Dense(vocab_size, activation = 'softmax')(decoder2)\n",
    "\n",
    "model = Model(inputs = [input1, input2],\n",
    "                outputs = output)\n",
    "\n",
    "model.compile(\n",
    "        loss = 'categorical_crossentropy',\n",
    "        optimizer = 'adam'\n",
    "        )\n",
    "\n",
    "plot_model(model, show_shapes = True)"
   ]
  },
  {
   "cell_type": "code",
   "execution_count": 13,
   "id": "a57e3cba",
   "metadata": {
    "execution": {
     "iopub.execute_input": "2023-01-21T05:11:14.614356Z",
     "iopub.status.busy": "2023-01-21T05:11:14.613943Z",
     "iopub.status.idle": "2023-01-21T05:11:14.620881Z",
     "shell.execute_reply": "2023-01-21T05:11:14.619825Z"
    },
    "papermill": {
     "duration": 0.215654,
     "end_time": "2023-01-21T05:11:14.622964",
     "exception": false,
     "start_time": "2023-01-21T05:11:14.407310",
     "status": "completed"
    },
    "tags": []
   },
   "outputs": [],
   "source": [
    "BATCH_SIZE = 32\n",
    "EPOCHS = 30\n",
    "train_dataloader = Dataloader(df = train_df, \n",
    "                              feature = feature, \n",
    "                              batch_size = BATCH_SIZE,\n",
    "                              tokenizer = tokenizer,\n",
    "                              max_len = max_len,\n",
    "                              vocab_size = vocab_size)\n",
    "val_dataloader = Dataloader(df = val_df, \n",
    "                              feature = feature, \n",
    "                              batch_size = BATCH_SIZE,\n",
    "                              tokenizer = tokenizer,\n",
    "                              max_len = max_len,\n",
    "                              vocab_size = vocab_size)\n",
    "test_dataloader = Dataloader(df = test_df, \n",
    "                              feature = feature, \n",
    "                              batch_size = BATCH_SIZE,\n",
    "                              tokenizer = tokenizer,\n",
    "                              max_len = max_len,\n",
    "                              vocab_size = vocab_size)"
   ]
  },
  {
   "cell_type": "code",
   "execution_count": 14,
   "id": "15e4d9ad",
   "metadata": {
    "execution": {
     "iopub.execute_input": "2023-01-21T05:11:15.041713Z",
     "iopub.status.busy": "2023-01-21T05:11:15.040757Z",
     "iopub.status.idle": "2023-01-21T05:11:15.047057Z",
     "shell.execute_reply": "2023-01-21T05:11:15.046201Z"
    },
    "papermill": {
     "duration": 0.220166,
     "end_time": "2023-01-21T05:11:15.049030",
     "exception": false,
     "start_time": "2023-01-21T05:11:14.828864",
     "status": "completed"
    },
    "tags": []
   },
   "outputs": [],
   "source": [
    "model_save = 'model.h5'\n",
    "\n",
    "callbacks = [\n",
    "    tf.keras.callbacks.ModelCheckpoint(\n",
    "        filepath = model_save,\n",
    "        mode = 'min',\n",
    "        save_best_only=True,\n",
    "        save_weights_only=True,\n",
    "    ),\n",
    "    tf.keras.callbacks.EarlyStopping(\n",
    "        monitor='val_loss',\n",
    "        patience=5,\n",
    "        verbose=1,\n",
    "        min_delta=.0001\n",
    "    )\n",
    "]"
   ]
  },
  {
   "cell_type": "code",
   "execution_count": 15,
   "id": "e43addb5",
   "metadata": {
    "execution": {
     "iopub.execute_input": "2023-01-21T05:11:15.463711Z",
     "iopub.status.busy": "2023-01-21T05:11:15.463140Z",
     "iopub.status.idle": "2023-01-21T05:35:22.244782Z",
     "shell.execute_reply": "2023-01-21T05:35:22.242825Z"
    },
    "papermill": {
     "duration": 1446.990796,
     "end_time": "2023-01-21T05:35:22.247211",
     "exception": false,
     "start_time": "2023-01-21T05:11:15.256415",
     "status": "completed"
    },
    "tags": []
   },
   "outputs": [
    {
     "name": "stdout",
     "output_type": "stream",
     "text": [
      "Epoch 1/30\n",
      "1011/1011 [==============================] - 160s 154ms/step - loss: 4.4625 - val_loss: 3.8158\n",
      "Epoch 2/30\n",
      "1011/1011 [==============================] - 156s 154ms/step - loss: 3.4882 - val_loss: 3.5277\n",
      "Epoch 3/30\n",
      "1011/1011 [==============================] - 155s 153ms/step - loss: 3.1443 - val_loss: 3.4298\n",
      "Epoch 4/30\n",
      "1011/1011 [==============================] - 155s 153ms/step - loss: 2.9203 - val_loss: 3.4093\n",
      "Epoch 5/30\n",
      "1011/1011 [==============================] - 154s 153ms/step - loss: 2.7572 - val_loss: 3.4186\n",
      "Epoch 6/30\n",
      "1011/1011 [==============================] - 154s 153ms/step - loss: 2.6233 - val_loss: 3.4650\n",
      "Epoch 7/30\n",
      "1011/1011 [==============================] - 154s 152ms/step - loss: 2.5165 - val_loss: 3.5230\n",
      "Epoch 8/30\n",
      "1011/1011 [==============================] - 155s 153ms/step - loss: 2.4299 - val_loss: 3.5607\n",
      "Epoch 9/30\n",
      "1011/1011 [==============================] - 156s 154ms/step - loss: 2.3592 - val_loss: 3.6130\n",
      "Epoch 00009: early stopping\n"
     ]
    }
   ],
   "source": [
    "history = model.fit(\n",
    "        train_dataloader,\n",
    "        epochs = EPOCHS,\n",
    "        validation_data = val_dataloader,\n",
    "        callbacks = callbacks,\n",
    "        )"
   ]
  },
  {
   "cell_type": "code",
   "execution_count": 16,
   "id": "77615e7c",
   "metadata": {
    "execution": {
     "iopub.execute_input": "2023-01-21T05:35:23.659613Z",
     "iopub.status.busy": "2023-01-21T05:35:23.659214Z",
     "iopub.status.idle": "2023-01-21T05:36:08.372271Z",
     "shell.execute_reply": "2023-01-21T05:36:08.371344Z"
    },
    "papermill": {
     "duration": 46.132675,
     "end_time": "2023-01-21T05:36:09.112980",
     "exception": false,
     "start_time": "2023-01-21T05:35:22.980305",
     "status": "completed"
    },
    "tags": []
   },
   "outputs": [
    {
     "data": {
      "image/png": "[encoded data removed]",
      "text/plain": [
       "<Figure size 432x288 with 1 Axes>"
      ]
     },
     "metadata": {
      "needs_background": "light"
     },
     "output_type": "display_data"
    }
   ],
   "source": [
    "plt.plot(history.history[\"loss\"])\n",
    "plt.plot(history.history[\"val_loss\"])\n",
    "plt.title(\"Model loss\")\n",
    "plt.xlabel(\"Epoch\")\n",
    "plt.ylabel(\"Loss\")\n",
    "plt.legend([\"train\", \"test\"], loc = \"upper left\")\n",
    "plt.show()"
   ]
  },
  {
   "cell_type": "code",
   "execution_count": 17,
   "id": "5de92142",
   "metadata": {
    "execution": {
     "iopub.execute_input": "2023-01-21T05:36:10.962006Z",
     "iopub.status.busy": "2023-01-21T05:36:10.961635Z",
     "iopub.status.idle": "2023-01-21T05:36:16.237587Z",
     "shell.execute_reply": "2023-01-21T05:36:16.236530Z"
    },
    "papermill": {
     "duration": 6.157972,
     "end_time": "2023-01-21T05:36:16.239739",
     "exception": false,
     "start_time": "2023-01-21T05:36:10.081767",
     "status": "completed"
    },
    "tags": []
   },
   "outputs": [
    {
     "name": "stdout",
     "output_type": "stream",
     "text": [
      "126/126 [==============================] - 5s 41ms/step - loss: 3.5667\n",
      "Test loss, test accuracy: 3.5667052268981934\n"
     ]
    }
   ],
   "source": [
    "result = model.evaluate(test_dataloader)\n",
    "print(f\"Test loss, test accuracy: {result}\")"
   ]
  },
  {
   "cell_type": "code",
   "execution_count": 18,
   "id": "a2d84fd4",
   "metadata": {
    "execution": {
     "iopub.execute_input": "2023-01-21T05:36:17.658933Z",
     "iopub.status.busy": "2023-01-21T05:36:17.658575Z",
     "iopub.status.idle": "2023-01-21T05:36:17.666050Z",
     "shell.execute_reply": "2023-01-21T05:36:17.665053Z"
    },
    "papermill": {
     "duration": 0.756479,
     "end_time": "2023-01-21T05:36:17.668067",
     "exception": false,
     "start_time": "2023-01-21T05:36:16.911588",
     "status": "completed"
    },
    "tags": []
   },
   "outputs": [],
   "source": [
    "def predict(image_name, feature_extract, model, tokenizer, max_len, start_token = 'startseq', end_token = 'endseq'):\n",
    "    output = start_token\n",
    "    img = load_img(image_name, target_size=(224,224))\n",
    "    img = img_to_array(img)\n",
    "    img = img[None,:]\n",
    "    img = preprocess_input(img)\n",
    "    img_feature = feature_extract.predict(img)\n",
    "    for i in range(max_len):\n",
    "        sequence = tokenizer.texts_to_sequences([output])[0]\n",
    "        sequence = pad_sequences([sequence], maxlen=max_len)\n",
    "        yhat = model.predict([img_feature, sequence])\n",
    "        idx = np.argmax(yhat)\n",
    "        if idx in tokenizer.index_word:\n",
    "            token = tokenizer.index_word[idx]\n",
    "            output += ' ' + token\n",
    "            if token == end_token:\n",
    "                break\n",
    "        else:\n",
    "            break\n",
    "    return output"
   ]
  },
  {
   "cell_type": "code",
   "execution_count": 19,
   "id": "343a4966",
   "metadata": {
    "execution": {
     "iopub.execute_input": "2023-01-21T05:36:19.074039Z",
     "iopub.status.busy": "2023-01-21T05:36:19.073691Z",
     "iopub.status.idle": "2023-01-21T05:36:19.086436Z",
     "shell.execute_reply": "2023-01-21T05:36:19.085229Z"
    },
    "papermill": {
     "duration": 0.746852,
     "end_time": "2023-01-21T05:36:19.088406",
     "exception": false,
     "start_time": "2023-01-21T05:36:18.341554",
     "status": "completed"
    },
    "tags": []
   },
   "outputs": [
    {
     "name": "stdout",
     "output_type": "stream",
     "text": [
      "/kaggle/input/flickr8k\n"
     ]
    }
   ],
   "source": [
    "%cd /kaggle/input/flickr8k"
   ]
  },
  {
   "cell_type": "code",
   "execution_count": 20,
   "id": "30567898",
   "metadata": {
    "execution": {
     "iopub.execute_input": "2023-01-21T05:36:20.574294Z",
     "iopub.status.busy": "2023-01-21T05:36:20.573919Z",
     "iopub.status.idle": "2023-01-21T05:36:23.393896Z",
     "shell.execute_reply": "2023-01-21T05:36:23.392945Z"
    },
    "papermill": {
     "duration": 3.627991,
     "end_time": "2023-01-21T05:36:23.396042",
     "exception": false,
     "start_time": "2023-01-21T05:36:19.768051",
     "status": "completed"
    },
    "tags": []
   },
   "outputs": [
    {
     "name": "stdout",
     "output_type": "stream",
     "text": [
      "Real:  []\n"
     ]
    },
    {
     "data": {
      "text/plain": [
       "'startseq playing with a toy in a living room with a television in the background of them also also also also also also also also also also holding a toy in his hand with a television in his hand'"
      ]
     },
     "execution_count": 20,
     "metadata": {},
     "output_type": "execute_result"
    }
   ],
   "source": [
    "image_name = '1045521051_108ebc19be.jpg'\n",
    "print('Real: ',test_df.loc[test_df.image == image_name,:].caption.tolist())\n",
    "predict('Images/'+image_name, feature_extract, model, tokenizer, max_len)"
   ]
  },
  {
   "cell_type": "code",
   "execution_count": 21,
   "id": "33aeeb90",
   "metadata": {
    "execution": {
     "iopub.execute_input": "2023-01-21T05:36:24.830091Z",
     "iopub.status.busy": "2023-01-21T05:36:24.829722Z",
     "iopub.status.idle": "2023-01-21T05:36:26.757298Z",
     "shell.execute_reply": "2023-01-21T05:36:26.756229Z"
    },
    "papermill": {
     "duration": 2.617115,
     "end_time": "2023-01-21T05:36:26.759613",
     "exception": false,
     "start_time": "2023-01-21T05:36:24.142498",
     "status": "completed"
    },
    "tags": []
   },
   "outputs": [
    {
     "name": "stdout",
     "output_type": "stream",
     "text": [
      "Real:  []\n"
     ]
    },
    {
     "data": {
      "text/plain": [
       "'startseq dog running through grass with a dog in the background watching them is running in the grass with a dog in his mouth and a dog follows him on it is running in the grass with a large'"
      ]
     },
     "execution_count": 21,
     "metadata": {},
     "output_type": "execute_result"
    }
   ],
   "source": [
    "image_name = '1009434119_febe49276a.jpg'\n",
    "print('Real: ',test_df.loc[test_df.image == image_name,:].caption.tolist())\n",
    "predict('Images/'+image_name, feature_extract, model, tokenizer, max_len)"
   ]
  }
 ],
 "metadata": {
  "kernelspec": {
   "display_name": "min_ds-env",
   "language": "python",
   "name": "python3"
  },
  "language_info": {
   "codemirror_mode": {
    "name": "ipython",
    "version": 3
   },
   "file_extension": ".py",
   "mimetype": "text/x-python",
   "name": "python",
   "nbconvert_exporter": "python",
   "pygments_lexer": "ipython3",
   "version": "3.8.8 | packaged by conda-forge | (default, Feb 20 2021, 15:50:08) [MSC v.1916 64 bit (AMD64)]"
  },
  "papermill": {
   "default_parameters": {},
   "duration": 2060.933986,
   "end_time": "2023-01-21T05:36:30.377695",
   "environment_variables": {},
   "exception": null,
   "input_path": "__notebook__.ipynb",
   "output_path": "__notebook__.ipynb",
   "parameters": {},
   "start_time": "2023-01-21T05:02:09.443709",
   "version": "2.3.4"
  },
  "vscode": {
   "interpreter": {
    "hash": "bc71b87cd2e7bcf71dc6c0790f1c8f86f5cac4f505cb6d6764d265a5cda9bc77"
   }
  }
 },
 "nbformat": 4,
 "nbformat_minor": 5
}
